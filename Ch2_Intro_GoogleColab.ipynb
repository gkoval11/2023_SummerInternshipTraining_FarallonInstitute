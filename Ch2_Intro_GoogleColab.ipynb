{
 "cells": [
  {
   "cell_type": "markdown",
   "metadata": {},
   "source": [
    "# Chapter 2 - Introduction to Google Colab\n",
    "\n",
    "In this tutorial we will use `Google Colab` as an interface for `Python`, therefore a quick intro is given.  If you know are familiar with `Jupyter Notebook` or `Jupyter Lab`, you will also probably be pretty comfortable with `Google Colab`. Both of these resources (`Google Colab` and `Jupyter Notebook`), use __notebooks__ to execute code. These files end with a .ipynb instead of the traditional .py that a `Python` script ends with.  If you want to learn more, there are some useful __Resources__ at the bottom of this page.\n",
    "\n",
    "***\n",
    "\n",
    "## What is Google Colab\n",
    "\n",
    "<img src='./figures/colab_logo.png' width=200>\n",
    "\n",
    "`Google Colab` is a free tool that allows you to work with `Python` code on the web using cloud computing resources. None of the code you run in `Google Colab` is executed locally, so you don't need a powerful machine to execute Python code. `Google Colab` also allows you to connect your `Google Drive` where you can save these __notebooks__ and access data you have stored in the cloud. All you need to access `Google Colab` is to be signed into a gmail account!\n",
    "\n",
    "A __Notebook__ is more than interactive coding - meaning you write and execute part of your code and receive immediate response. __Notebooks__ also allow you to add formatted text, equations and figures - this let you keep code, info, and results, including figures, neatly organized and visualize them on the same page. It also allows others to reproduce your results. \n",
    "\n",
    "<img src='./figures/Google_colab_example.png'>\n",
    "\n",
    "***\n",
    "\n",
    "## Google Colab Elements\n",
    "\n",
    "__The main page:__ When you first open Google Colab (https://colab.research.google.com), you will be brought to the main page with a few options. There are a few example notebooks you can open, you can see your most recent notebooks or what is on your google drive, you also have the option to download a notebook from GitHub or upload one from your computer. \n",
    "\n",
    "<img src=\"./figures/Google_colab_mainpage.png\" width=700>\n",
    "\n",
    "__Top menu__ (See below): Contains several useful menus and the ability to add a new cell (see below), which can be either code or text. \n",
    "\n",
    "<img src=\"./figures/Google_colab_topmenu.png\" width=400>\n",
    "\n",
    "\n",
    "__Cell menu:__ to the right of each cell there are several options. These include arrows to move the cell up or down in the notebook, copy the cell, or delete the cell along with a few other options. \n",
    "\n",
    "<img src=\"./figures/Google_colab_cellmenu.png\" width=200>\n",
    "\n",
    "***\n",
    "\n",
    "## The Basics\n",
    "\n",
    "### Cells\n",
    "Scripts are divided into cells - code lines that are ran (executed) as a unit and will return the output or results from your code immediately. Cells are not independent of the rest: if you assigned or modified variables in a cell, you do have access to those in following ones.\n",
    "\n",
    "To run a cell you have few options:\n",
    "- Press __Shift-Return__ (run cell and move to the next one) or __Command-Return__ (run cell and stay in the current oone) \n",
    "- Go to the Top menu -> Runtime -> Run Cells\n",
    "\n",
    "The selected cell is highlighted by a thick color side bar, and to edit the cell, you'll have to double click on it and a color outline will appear around the cell. \n",
    "\n",
    "\n",
    "### Types of cells: Code and Markdown\n",
    "__Markdown__ cells contain formatted text, like this cell, while __Code__ cells contain code to be executed and in many cases return an output. The text within a __Code__ cell shows different colors, depending on the function (operation, variable, etc).\n",
    "\n",
    "To change the type of cell:\n",
    "- On the __Icon menu__: in the middle (or the next to last element if running locally on your own computer) of this menu there is a drop-down menu that shows the type and allows you to change it\n",
    "\n",
    "Pressing __Esc__ allows you access to keyboard commands (you can see them all from the Top Menu -> Tools -> Keyboard Shortcuts).\n",
    "\n",
    "***\n",
    "__Test this:__ Double click in the next cell to edit mode and then run the cell using one of the options above. Also try changing between __Markdown__ and __Code__ modes, re-running the cell to see the differences."
   ]
  },
  {
   "cell_type": "code",
   "execution_count": null,
   "metadata": {},
   "outputs": [],
   "source": [
    "## __Test  this:__\n",
    "myvar = 5+6\n",
    "print(myvar)"
   ]
  },
  {
   "cell_type": "markdown",
   "metadata": {},
   "source": [
    "***\n",
    "## Housekeeping\n",
    "\n",
    "### Saving your work\n",
    "\n",
    "`Google colab` allows you to link to your `Google Drive`. So you can either save a copy of the notebook to your drive (Top Menu -> File -> Save a Copy in Drive) or download the notebook locally (Top Menu -> File -> Download -> Download .ipynb). If you go to your `Google Drive` you should see a new folder called \"Colab Notebooks\" with the notebook there. The main advantage of `Google colab` is you can access a notebook from GitHub, make your edits, and then save that version of the notebook to `Google Drive` so when you come back to it, the edits will still be there. \n",
    "\n",
    "### Collecting Google Drive\n",
    "\n",
    "`Google colab` allows you to connect to `Google Drive`, so you can access any data you have on `Google Drive` in `Google colab` through the notebook. You will have to \"mount\" `Google Drive` each time you start a new colab notebook. You can do this by clicking the folder on the left window and clicking the `Google Drive` button. This will output a new cell in your notebook (the following cell) which after being executed, you will now be able to access files from your `Google Drive`. "
   ]
  },
  {
   "cell_type": "code",
   "execution_count": null,
   "metadata": {},
   "outputs": [],
   "source": [
    "from google.colab import drive\n",
    "drive.mount('/content/drive')"
   ]
  },
  {
   "cell_type": "markdown",
   "metadata": {},
   "source": [
    "### Libraries\n",
    "\n",
    "`Google colab` has a set amount of libraries at your disposal for every notebook. These are a suite of common Python libraries; however, you might come across a more niche or less common library you need to install. This is easy to do, but unfortunately you'll need to run the installtion code every time you run the notebook for the first time. If you try loading a library that isn't installed, `Google colab` will give an error message with the option to install the package at the bottom. This will pull up a code snippet you can use to install the package (see cell below). \n",
    "\n",
    "<img src=\"./figures/carotpy_error.png\" width=400>\n"
   ]
  },
  {
   "cell_type": "code",
   "execution_count": null,
   "metadata": {},
   "outputs": [],
   "source": [
    "import cartopy"
   ]
  },
  {
   "cell_type": "code",
   "execution_count": null,
   "metadata": {},
   "outputs": [],
   "source": [
    "!pip install cartopy\n",
    "import caropy"
   ]
  },
  {
   "cell_type": "markdown",
   "metadata": {},
   "source": [
    "***"
   ]
  },
  {
   "cell_type": "markdown",
   "metadata": {},
   "source": [
    "## Resources\n",
    "\n",
    "[Overview of Colaboratory Features](https://colab.research.google.com/notebooks/basic_features_overview.ipynb)\n",
    "\n",
    "[Markdown Guide](https://colab.research.google.com/notebooks/markdown_guide.ipynb)\n",
    "\n",
    "[Welcome Video from Colab](https://www.youtube.com/watch?v=rNgswRZ2C1Y)\n",
    "\n",
    "[Colab Frequently Asked Questions](https://research.google.com/colaboratory/faq.html)\n"
   ]
  },
  {
   "cell_type": "code",
   "execution_count": null,
   "metadata": {},
   "outputs": [],
   "source": []
  }
 ],
 "metadata": {
  "kernelspec": {
   "display_name": "Python 3 (ipykernel)",
   "language": "python",
   "name": "python3"
  },
  "language_info": {
   "codemirror_mode": {
    "name": "ipython",
    "version": 3
   },
   "file_extension": ".py",
   "mimetype": "text/x-python",
   "name": "python",
   "nbconvert_exporter": "python",
   "pygments_lexer": "ipython3",
   "version": "3.10.4"
  }
 },
 "nbformat": 4,
 "nbformat_minor": 4
}
