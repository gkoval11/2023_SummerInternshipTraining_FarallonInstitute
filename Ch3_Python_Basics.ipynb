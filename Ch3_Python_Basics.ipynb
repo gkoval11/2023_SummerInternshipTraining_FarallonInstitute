{
 "cells": [
  {
   "cell_type": "markdown",
   "metadata": {},
   "source": [
    "# Chapter 3: Python Basics\n",
    "\n",
    "In the next Chapters, we will learn `Python` as we do `Python`. However, there are basic concepts and features we will need. This chapter is about those basic concepts. You could skip this chapter if you're familiar with `Python`.\n",
    "\n",
    "This, and following, chapters are fully interactive in the sense that you have to run the code to see any result. __Test this__ prompts will precede cells to run to test a particular concept, and instructions are given if needed. We provide only the necessary introduction to a concept in a __Markdown__ cell, but any further information and instructions are given as __comments__ within the cell to run."
   ]
  },
  {
   "cell_type": "markdown",
   "metadata": {},
   "source": [
    "## Modules\n",
    "As mentioned, `Python` is __modular__: it has all the libraries *(collection of programs or functions for a specific purpose)* you could possibly need, but you do not need to install them all. However, libraries that you need should be installed and imported when coding.\n",
    "\n",
    "For this tutorial you won't need to install any library, unless you're running them on your local computer. In that case, see instructions [here](https://github.com/marisolgr/python_sat_tutorials/blob/main/Python_Installation.md).\n",
    "\n",
    "__Importing__ libraries into your code is done at the beginning of the code. You could give them a _nickname_ to simplify coding, and you could also import only one function from a particular library if you do not want to import the whole thing. A cell with library import commands needs to be run firrstt for the libraries to be loaded. __Test this__ running the next cell."
   ]
  },
  {
   "cell_type": "code",
   "execution_count": null,
   "metadata": {},
   "outputs": [],
   "source": [
    "# import modules/libraries\n",
    "import numpy as np  # using a nickname\n",
    "import math  # using the original library name\n",
    "\n",
    "var = [1,2,3,4,5,np.nan] # nan is a void value: Not a number\n",
    "\n",
    "# the function print accept different variables separated by a comma\n",
    "print('Mean value = ', np.mean(var)) \n",
    "print('Mean value, ignoring nan  = ', np.nanmean(var)) ,0\n",
    "\n",
    "# in this example, instead of passing 2 arguments to print, we concatenate two strings (+), needing to convert the numerical variable pi to string\n",
    "print('At some point, we will need the value of pi='+str(math.pi))"
   ]
  },
  {
   "cell_type": "markdown",
   "metadata": {},
   "source": [
    "## Data Types, Collections & Structures\n",
    "\n",
    "Like other programming languages, `Python` basic data types include integers, floats, complex, strings, and boolean. Variables can be reassigned anytime. \n",
    "\n",
    "`Python` has some basic data collections. We will talk about three of them, mostly so you can recognize them when you encounter them:¶\n",
    "\n",
    "- __List__ - ordered, changeable, allows duplicates\n",
    "\n",
    "- __Tuple__ - ordered, unchangeable, allows duplicates\n",
    "\n",
    "- __Dictionary__ - unordered, changeable, no duplicates allowed\n",
    "\n",
    "All collections can contain any type of data, including other collections. \n",
    "\n",
    "__Test this:__ In the next cells, we will define variables of each type of collection, modify them and access their elements. Try them by following the editing instructions and rerunning the cell. \n"
   ]
  },
  {
   "cell_type": "markdown",
   "metadata": {},
   "source": [
    "## Lists\n",
    "\n",
    "The simplest and most used type."
   ]
  },
  {
   "cell_type": "code",
   "execution_count": null,
   "metadata": {},
   "outputs": [],
   "source": [
    "mylist=['temperature', 'wind', 'salinity']  # note the use of [ ]\n",
    "print(mylist, '\\n') # add extra line with '\\n'\n",
    "\n",
    "# accessing elements \n",
    "print(mylist[0], '\\n') # note index starts at zero\n",
    "\n",
    "# change an element using an index\n",
    "mylist[1] = 'wind speed'\n",
    "\n",
    "# add an element\n",
    "mylist.append('current')\n",
    "print(mylist)"
   ]
  },
  {
   "cell_type": "markdown",
   "metadata": {},
   "source": [
    "## Tuples\n",
    "\n",
    "We are not going to use this collection type, but some functions return variables of this type, and trying to modify those are a common source of error. It is good to be able to recognize them."
   ]
  },
  {
   "cell_type": "code",
   "execution_count": null,
   "metadata": {},
   "outputs": [],
   "source": [
    "mytuple = ('latitude', 'longitude', 'time')  # note the use of ( )\n",
    "print(mytuple, '\\n')\n",
    "\n",
    "# accessing elements \n",
    "print(mytuple[0], '\\n') # note that to access we also use []\n",
    "\n",
    "# try changing an element using an index ...\n",
    "mytuple[3] = 'depth'"
   ]
  },
  {
   "cell_type": "markdown",
   "metadata": {},
   "source": [
    "Trying to change a __tuple__ will generate a very explicit error. They can be scary, due to the length of the output, but it is very useful: It will tell you exactly what the error is (bottom line) and in which line it occurred (right arrow on the left).  \n",
    "\n",
    "__Try this:__  Add line numbers to your code by clicking the top menu -> View -> Show Line Numbers tab. This facilate life when an error occur."
   ]
  },
  {
   "cell_type": "markdown",
   "metadata": {},
   "source": [
    "## Dictionaries\n",
    "\n",
    "Dictionaries are indexed pairs of keys and values, and we are going to use them in the next chapters. "
   ]
  },
  {
   "cell_type": "code",
   "execution_count": null,
   "metadata": {},
   "outputs": [],
   "source": [
    "mydict = {'instrument': 'temperature sensor', 'measurement':'SST','depth': 5} # note the use of {} and :\n",
    "print(mydict, '\\n')\n",
    "\n",
    "# access an element\n",
    "print(mydict['instrument'], '\\n') # nothe that we also use []\n",
    "\n",
    "# add an element \n",
    "mydict['units'] = 'C' # note the use of [], as it is accessing a (new) element\n",
    "print(mydict)"
   ]
  },
  {
   "cell_type": "markdown",
   "metadata": {},
   "source": [
    "## Data Structures\n",
    "\n",
    "Although `Python` was not originally designed for scientific data, its community base and free nature allows for the development of libraries that handle scientific data and operations nicely & efficiently, as we will see in the next chapters. Part of the great developments in `Python` are the data structures that can efficiently handle:\n",
    "\n",
    "- large amounts of data\n",
    "\n",
    "- multiple dimensions\n",
    "\n",
    "- mathematical and statistical operations over parts or the whole data set\n",
    "\n",
    "- metadata and data attributes\n",
    "\n",
    "These structures are defined in numerical/scientific oriented libraries (that need to be loaded in our code): numpy, pandas & xarray. We will use them in the next chapters (describing __xarray__ more in detail in Chapter 4a), and important features will be noted in the comments. Descriptions, documentation and tutorials for these libraries can be found in the __Resources__ section below.\n",
    "\n",
    "Here we just describe their data structures, and even better, illustrate them in the figure below.\n",
    "\n",
    "- __numpy arrays__: Multi-dimensional numerical arrays. \n",
    "\n",
    "- __pandas DataFrames__: Data Frames which resemble tables in excel - two dimensional (tabular) arrays that take different types of data, with labeled rows and columns.\n",
    "\n",
    "- __xarray DataArrays & Datasets__: Datasets that contain one or multiple data arrays (one per variable) that can be indexed by labels or numbers, referred to as coordinates. They follow the `netcdf` file format, so they can accommodate metadata and multidimensional grids or time series.\n",
    "\n",
    "<img src=\"figures/data_structures.png\"/>\n"
   ]
  },
  {
   "cell_type": "markdown",
   "metadata": {},
   "source": [
    "***\n",
    "##  Basic Python Syntaxis\n",
    "\n",
    "### For Loops\n",
    "\n",
    "`Python` is a positional language. This means that the position of the first character in a line has a meaning. This is illustrated in the next cell, where the operations to execute within a __for loop__ are positioned to 4 spaces to the right. __Try this__ by running the next cells. More details are provided in the comments."
   ]
  },
  {
   "cell_type": "code",
   "execution_count": null,
   "metadata": {},
   "outputs": [],
   "source": [
    "somelist = ['a', 'b', 'c', 'd', 'e', 'f', 'g', 'h', 'i','j']\n",
    "for item in somelist: # for loops take any list as arguments, and many objects can be 'read' as list using the function enumerate()\n",
    "    print(item)  \n",
    "print('\\nEnd of loop\\n',somelist) # note the position of this line. the lack of spaces at the beginning indicates we are already outside the loop\n"
   ]
  },
  {
   "cell_type": "code",
   "execution_count": null,
   "metadata": {},
   "outputs": [],
   "source": [
    "# to iterate over the indices of a list we will use the function range\n",
    "for index in range(0,10,1): # by default this function makes a numerical list starting in zero \n",
    "    # try changing the range to range(10) instead, and also the step from 1 to 2\n",
    "    print(index, somelist[index])\n",
    "\n",
    "print('\\n')\n",
    "\n",
    "#  this is a more complicated way, but sometimes necessary to obtain the indices of a list\n",
    "for index, value in enumerate(somelist): \n",
    "    print(index, value, somelist[index])"
   ]
  },
  {
   "cell_type": "markdown",
   "metadata": {},
   "source": [
    "### Conditional Statements\n",
    "Conditional statements are similar to other programming languages but pay attention to:\n",
    "- the `:` after the conditions\n",
    "- the `elif` for another condition\n",
    "- for multiple conditions, each one has to be enclosed by `( )`\n",
    "\n",
    "__Try this__ by running the next cell. Then change the assigned value of _lat_ to obtain different results, and try again."
   ]
  },
  {
   "cell_type": "code",
   "execution_count": null,
   "metadata": {},
   "outputs": [],
   "source": [
    "lat = 12\n",
    "if (lat <= -23.5) or (lat >= 23.5):\n",
    "    print('extra-tropical')\n",
    "elif lat == 0:\n",
    "    print('equator')\n",
    "else:\n",
    "    print('tropical')"
   ]
  },
  {
   "cell_type": "markdown",
   "metadata": {},
   "source": [
    "One cool feature in `Python` is its __comprehensive lists__. This is a simplified line code that combines (usually) a __for loop__ with a __conditional expression__. They simplify code, but as a beginner sometimes it is difficult to construct or interpret them. We present them here because they are useful, and when asking for help online, many times they are proposed as the solution so it is important to be able to understand them.\n",
    "\n",
    "__Try this:__ In the next cell you'll see two ways to do the same piece of code, the second as a comprehensive list."
   ]
  },
  {
   "cell_type": "code",
   "execution_count": null,
   "metadata": {},
   "outputs": [],
   "source": [
    "# explicit for loop and conditional\n",
    "for lat in range(-90,90,10):\n",
    "    if (lat <= -23.5) or (lat >= 23.5):\n",
    "        print('extra-tropical')\n",
    "    else:\n",
    "        print('tropical')\n",
    "        \n",
    "# comprehensive list\n",
    "result=['tropical' if np.abs(lat)<=23.5 else ('extra-tropical') for lat in range(-90,90,10)]\n",
    "\n",
    "result # note that if the last line is a variable by itself, it prints it out"
   ]
  },
  {
   "cell_type": "markdown",
   "metadata": {},
   "source": [
    "### Functions\n",
    "Functions are pieces of code that are needed several times within a program, and therefore it is easier to isolate and call them every time as needed, instead of spelling out the code every time. They make the code cleaner and less prone to errors. __Run the next cell__ to see an example of a function definition and use."
   ]
  },
  {
   "cell_type": "code",
   "execution_count": null,
   "metadata": {},
   "outputs": [],
   "source": [
    "def my_func(arg1): # note the :\n",
    "    cel = (arg1 - 32) * 5/9\n",
    "    print (arg1,'Farenheit = ', np.round(cel,1) , ' Celsius')\n",
    "    \n",
    "for far in range(0,101,10): # note the range ends at 100, not at 101. the upper limit is an open limit.\n",
    "    my_func(far)"
   ]
  },
  {
   "cell_type": "markdown",
   "metadata": {},
   "source": [
    "***\n",
    "## Objects, Attributes & Methods\n",
    "\n",
    "`Python` is an object-oriented programming language. This means almost everything is an object or instance of a class. Variables are objects, and therefore they have attributes & methods intrinsic to the class they belong to.\n",
    "\n",
    "- __Properties or Attributes__ of an object (variable) are accessed with __.attribute__ after the object name.\n",
    "\n",
    "- __Methods__ are functions and are accessed with __.method(arguments)__ after the object name.\n",
    "\n",
    "__Try this:__ In the next cell we demonstrate the use of an attribute and a method of a particular type of a very unique class: __date__, which is an incredibly useful library in `Python`."
   ]
  },
  {
   "cell_type": "code",
   "execution_count": null,
   "metadata": {},
   "outputs": [],
   "source": [
    "from datetime import date # import the date function from the datetime package\n",
    "\n",
    "today = date.today() # create an instance (object or variable) of the class date\n",
    "print(today, '\\n')\n",
    "\n",
    "## date object attributes are access with a . but not ()\n",
    "print('year = ',today.year, '\\nmonth = ', today.month, '\\nday = ', today.day, '\\n') \n",
    "\n",
    "## date object methods are accessed with a . and (), even without arguments. \n",
    "print(today.ctime()) # access the method date in string format"
   ]
  },
  {
   "cell_type": "markdown",
   "metadata": {},
   "source": [
    "***\n",
    "## Resources\n",
    "\n",
    "### Python tutorials\n",
    "\n",
    "[The Official Python Site](https://docs.python.org/3/tutorial/)\n",
    "\n",
    "A great site, a simple and good tutorial, that also serves as reference: [w3schools](https://www.w3schools.com/python/)\n",
    "\n",
    "Great tutorial site for basics in python: [gapminder_tutorial](https://swcarpentry.github.io/python-novice-gapminder/) and [inflammation tutorial](https://swcarpentry.github.io/python-novice-inflammation/)\n",
    "\n",
    "__Python for scientists:__\n",
    "\n",
    "Basic and easy [tutorial](https://scipy-lectures.org/intro/) to use as reference.\n",
    "\n",
    "Another [tutorial](http://earthpy.org/category/introduction-to-python.html). Oldish, but nice and simple.\n",
    "\n",
    "A more advanced and complete [tutorial](https://astrofrog.github.io/py4sci/)\n",
    "\n",
    "### More on:\n",
    "\n",
    "Data types and collections: [https://www.geeksforgeeks.org/python-data-types/](https://www.geeksforgeeks.org/python-data-types/)\n",
    "\n",
    "Functions - w3schools.com is a good reference with try your self examples: [https://www.w3schools.com/python/python_functions.asp](https://www.w3schools.com/python/python_functions.asp)\n",
    "\n",
    "_Comprehensive lists_\n",
    "\n",
    "- Why and how use them: [https://realpython.com/list-comprehension-python/](https://realpython.com/list-comprehension-python)\n",
    "- A simple and step-by-step tutorial: [https://www.w3schools.com/python/python_lists_comprehension.asp](https://www.w3schools.com/python/python_lists_comprehension.asp)\n",
    "\n",
    "Date functions - One of the best functionalities of Python is the manage of time. Here is a good page to learn about these functions: [https://www.guru99.com/date-time-and-datetime-classes-in-python.html](https://www.guru99.com/date-time-and-datetime-classes-in-python.html)\n",
    "\n",
    "### __More on the libraries:__\n",
    "\n",
    "__numpy__\n",
    "\n",
    "[The official site](https://numpy.org/)\n",
    "\n",
    "A simple and to the point numpy [tutorial](https://numpy.org/doc/stable/user/absolute_beginners.html)\n",
    "\n",
    "__pandas__\n",
    "\n",
    "[The official site](https://pandas.pydata.org/)\n",
    "\n",
    "A thorough [tutorial](https://bitbucket.org/hrojas/learn-pandas/src/master/)\n",
    "\n",
    "Super useful to have around [Cheat Sheet](https://pandas.pydata.org/Pandas_Cheat_Sheet.pdf)\n",
    "\n",
    "__xarray__\n",
    "\n",
    "[The official site](http://xarray.pydata.org/en/stable/)\n",
    "\n",
    "Intro [video](https://www.youtube.com/watch?v=X0pAhJgySxk) to what xarray is"
   ]
  },
  {
   "cell_type": "code",
   "execution_count": null,
   "metadata": {},
   "outputs": [],
   "source": []
  }
 ],
 "metadata": {
  "kernelspec": {
   "display_name": "Python 3 (ipykernel)",
   "language": "python",
   "name": "python3"
  },
  "language_info": {
   "codemirror_mode": {
    "name": "ipython",
    "version": 3
   },
   "file_extension": ".py",
   "mimetype": "text/x-python",
   "name": "python",
   "nbconvert_exporter": "python",
   "pygments_lexer": "ipython3",
   "version": "3.10.4"
  }
 },
 "nbformat": 4,
 "nbformat_minor": 4
}
