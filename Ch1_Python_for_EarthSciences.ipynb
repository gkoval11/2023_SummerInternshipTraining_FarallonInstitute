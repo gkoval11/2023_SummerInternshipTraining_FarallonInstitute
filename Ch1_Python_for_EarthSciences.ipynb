{
 "cells": [
  {
   "cell_type": "markdown",
   "metadata": {},
   "source": [
    "#  Chapter 1 - Python for Earth Sciences\n",
    "![](./figures/globe_data.png)\n",
    "\n",
    "***\n",
    "__Note:__ This in __not__ a tutorial on `Python` - there are many resources for that. The purpose of this tutorial is to learn, through examples, the necessary `Python` code and tools required to work with satellite data. Please see the __Resources__ section in each chapter to learn more about `Python` and libraries used.\n",
    "\n",
    "***\n",
    "\n",
    "<img src=\"./figures/python_logo.png\" width='400'/>\n",
    "\n",
    "`Python` is a well developed, easy to learn programming language that provides many advantages for a wide range of applications, including Earth Sciences':\n",
    "\n",
    "- It is __Open Source__: it is free, everybody can use it, and everybody can contribute to it\n",
    "- It is used by an enormous community of developers\n",
    "- It is __Modular__: it has all the libraries *(collection of programs or functions for a specific purpose)* you could possibly need; you do not need to install them all\n",
    "- __This means many libraries have been developed by and for (Earth) scientists__\n",
    "\n",
    "***\n",
    "## Python Scientific Ecosystem\n",
    "There is a number of libraries and data structures in `Python` that make it ideal for Earth Sciences. Because of Python's modular structure, new and specific libraries are built on, and take advantage of, more basic but well developed ones. For example, the __xarray__ library is not only developed on top of `Python`, but also uses the __SciPy__, __pandas__ and __matplotlib__ libraries, which are built on top of __NumPy__.\n",
    "\n",
    "<img src=\"./figures/python_scientific_ecosystem.png\" alt=\"Python Scientific Ecosystem\" width=\"700\"/>\n",
    "\n",
    "***\n",
    "## How to use these tutorials\n",
    "\n",
    "There are different ways to program in `Python`. In this tutorial we use the web interface `Google Collab` (__Chapter 2__ gives a quick overview on how to use it). In __Chapter 3__ we will learn basic and necessary `Python` commands and data structures, and in __Chapters 4 and 5__ we will learn the tools (libraries) we need (and that make `Python` ideal) for environmental science data analysis. Then __Chapters 6 and 7__ include two real world examples combining all of the previous chapters.\n",
    "\n",
    "We only cover, through examples, the necessary and basic knowledge you need to be able to navigate the applications chapters, where we use project-like examples to illustrate how to acquire, analyze and visualize satellite data. You'll learn the capabilities of `Python`, and can use these examples to build your own.\n",
    "\n",
    "## Where to get help\n",
    "Beyond the __Resources__ links provided, like with everything these days: when in doubt, __google it!__ You'll find many useful pages and videos. One of the best Q&A resources, and many times the first link in a google search, it is [Stackoverflow](https://stackoverflow.com/). This site is an always evolving community in which people ask and answer coding questions. \n"
   ]
  },
  {
   "cell_type": "markdown",
   "metadata": {},
   "source": [
    "***\n",
    "## Resources\n",
    "The Official page: [https://www.python.org/](https://www.python.org/)\n",
    "\n",
    "Some basics about Python: https://www.tutorialspoint.com/python/index.htm\n",
    "\n",
    "Python tutorial resouces in Chapter 3\n"
   ]
  },
  {
   "cell_type": "code",
   "execution_count": null,
   "metadata": {},
   "outputs": [],
   "source": []
  }
 ],
 "metadata": {
  "kernelspec": {
   "display_name": "Python 3 (ipykernel)",
   "language": "python",
   "name": "python3"
  },
  "language_info": {
   "codemirror_mode": {
    "name": "ipython",
    "version": 3
   },
   "file_extension": ".py",
   "mimetype": "text/x-python",
   "name": "python",
   "nbconvert_exporter": "python",
   "pygments_lexer": "ipython3",
   "version": "3.10.4"
  }
 },
 "nbformat": 4,
 "nbformat_minor": 4
}
