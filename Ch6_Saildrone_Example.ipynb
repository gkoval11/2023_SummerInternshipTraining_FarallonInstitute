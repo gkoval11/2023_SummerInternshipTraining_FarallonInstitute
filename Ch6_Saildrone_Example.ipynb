{
 "cells": [
  {
   "cell_type": "markdown",
   "id": "82296485-8bbe-44b2-944e-42e67f1dc6d5",
   "metadata": {},
   "source": [
    "# Chapter 6 - Example: Exploratory Analysis of Saildrone Cruise Data\n",
    "\n",
    "This script is an example of an exploratory analysis I performed on Saildrone data. The script reads in the data, calculates some new fields, and then generates graphs and maps to help examine the Saildrone data. The script is broken up into different parts and includes comments throughout to help you follow along. \n",
    "\n"
   ]
  },
  {
   "cell_type": "markdown",
   "id": "519963d0-07fe-438f-826a-2261c95daacb",
   "metadata": {},
   "source": [
    "### Load Packages and Read in Data"
   ]
  },
  {
   "cell_type": "code",
   "execution_count": null,
   "id": "0aa50227-73d5-40ed-b018-512ee5dc3fd0",
   "metadata": {
    "tags": []
   },
   "outputs": [],
   "source": [
    "#import necessary packages\n",
    "import numpy as np\n",
    "import pandas as pd\n",
    "import xarray as xr\n",
    "import matplotlib.pyplot as plt \n",
    "import matplotlib.dates as mdates\n",
    "import seaborn as sns\n",
    "import datetime\n",
    "import warnings \n",
    "warnings.simplefilter('ignore') \n",
    "\n",
    "#load map packages\n",
    "from cartopy.mpl.ticker import LongitudeFormatter, LatitudeFormatter\n",
    "import cartopy.feature as cfeature\n",
    "import cartopy.crs as ccrs\n",
    "from calendar import month_abbr"
   ]
  },
  {
   "cell_type": "code",
   "execution_count": null,
   "id": "6c362625",
   "metadata": {},
   "outputs": [],
   "source": [
    "#open .nc file with Saildrone Data\n",
    "sail = xr.open_dataset('data/saildrone-gen_4-baja_2018-sd1002-20180411T180000-20180611T055959-1_minutes-v1jplv05.0_orbital.nc') \n",
    "sail.close()\n",
    "\n",
    "#copy data for calculations versus graphing\n",
    "sail_raw = sail.copy()\n",
    "\n",
    "sail"
   ]
  },
  {
   "cell_type": "markdown",
   "id": "b44340d4-475b-425d-b293-1e41b753ebd9",
   "metadata": {},
   "source": [
    "### Filter data and calculate a new column"
   ]
  },
  {
   "cell_type": "code",
   "execution_count": null,
   "id": "171de50f-01cd-466c-8073-1adff614ee50",
   "metadata": {},
   "outputs": [],
   "source": [
    "#filter out salinity values that are less than or equal to 32\n",
    "sail['SAL_CTD_MEAN']=sail.SAL_CTD_MEAN.where(sail.SAL_CTD_MEAN>=32, np.nan)\n",
    "\n",
    "#resample the data by hour\n",
    "sail = sail.resample(time=\"H\").mean(skipna=True)\n",
    "\n",
    "#add date column but store it as a matplotlib date format\n",
    "sail['date'] = mdates.date2num(sail['time'].dt.date)\n",
    "\n",
    "#create function for calculating windspeed\n",
    "def windspeed(u, v):\n",
    "    return np.sqrt((np.abs(u**2) + np.abs(v**2)))\n",
    "\n",
    "#calculate windspeed using function\n",
    "sail['wind_speed'] = windspeed(sail['UWND_MEAN'], sail['VWND_MEAN'])\n"
   ]
  },
  {
   "cell_type": "markdown",
   "id": "d1918d82-e17e-4384-ad5a-75d2b6d2d0b3",
   "metadata": {},
   "source": [
    "#### **BONUS:** Comparing for loop to functions\n",
    "\n",
    "Look at the time it takes to execute the function versus using the for loop.\n",
    "\n",
    "%%timeit executes the cell several times to determine the average time it takes to run all the code."
   ]
  },
  {
   "cell_type": "code",
   "execution_count": null,
   "id": "227d73cc-0594-4581-9907-69fe965ff75c",
   "metadata": {},
   "outputs": [],
   "source": [
    "%%timeit\n",
    "\n",
    "wind_speed = []\n",
    "for i in range(0,len(sail.date)):\n",
    "    wind_i = np.sqrt(np.abs(sail.UWND_MEAN[i].values) + np.abs(sail.VWND_MEAN[i].values))\n",
    "    wind_speed.append(wind_i)"
   ]
  },
  {
   "cell_type": "code",
   "execution_count": null,
   "id": "e0d50919-c4c1-441d-b391-485ee6335357",
   "metadata": {},
   "outputs": [],
   "source": [
    "%%timeit\n",
    "\n",
    "#create function for calculating windspeed\n",
    "def windspeed(u, v):\n",
    "    return np.sqrt((np.abs(u**2) + np.abs(v**2)))\n",
    "\n",
    "#calculate windspeed using function\n",
    "windspeed(sail['UWND_MEAN'], sail['VWND_MEAN'])\n"
   ]
  },
  {
   "cell_type": "markdown",
   "id": "d6b521a5-9160-4328-979b-771a78542ac0",
   "metadata": {},
   "source": [
    "### View Windspeed throughout the Cruise"
   ]
  },
  {
   "cell_type": "code",
   "execution_count": null,
   "id": "e5a79856-754d-4206-b64f-6bcb40a200ce",
   "metadata": {
    "tags": []
   },
   "outputs": [],
   "source": [
    "#resample the data by Day\n",
    "resampled_wind = sail.resample(time=\"D\", skipna = True).mean()\n",
    "\n",
    "#create list of ticks for the x axis\n",
    "default_x_ticks = range(0,len(sail['time']),divmod(len(sail['time']), 10)[0]) #selects out 10 evenly spaced dates from the data\n",
    "colors = plt.cm.jet(np.linspace(0, 1, len(resampled_wind)))\n",
    "\n",
    "#set figure size\n",
    "plt.figure(figsize = (14,4))\n",
    "\n",
    "#create lineplot \n",
    "sns.lineplot(x = sail['time'].dt.date, y = sail['wind_speed'], color = 'grey', alpha=0.2, ci=None) #seaborn has built in confidence intervals\n",
    "plt.scatter(sail['time'].dt.date, sail['wind_speed'], 40, [*range(len(sail['wind_speed']))], 'o', cmap='jet') #add points for each day\n",
    "plt.tight_layout()\n",
    "\n",
    "#add labels\n",
    "plt.title('Wind Speed for Saildrone Cruise', fontdict = {'fontsize' : 16}) \n",
    "plt.xlabel(\"Date\")\n",
    "plt.ylabel(\"Wind Speed [m/s]\")\n",
    "\n",
    "#select x axis ticks based on above values\n",
    "plt.xticks(sail['time'][default_x_ticks], sail['time'].dt.date[default_x_ticks].values)\n",
    "plt.grid(zorder=0, alpha=0.5)\n",
    "plt.show()\n",
    "\n",
    "#set figure size\n",
    "plt.figure(figsize = (14,4))\n",
    "\n",
    "#create lineplot \n",
    "sns.lineplot(x = sail['time'].dt.date, y = sail['wind_speed'], color = 'grey', alpha=0.2, ci='sd') #seaborn has built in confidence intervals\n",
    "plt.scatter(resampled_wind['time'].dt.date, resampled_wind['wind_speed'], 40, [*range(len(resampled_wind['wind_speed']))], 'o', cmap='jet') #add points for each day\n",
    "plt.tight_layout()\n",
    "\n",
    "#add labels\n",
    "plt.title('Daily Average of Wind Speed for Saildrone Cruise', fontdict = {'fontsize' : 16}) \n",
    "plt.xlabel(\"Date\")\n",
    "plt.ylabel(\"Wind Speed [m/s]\")\n",
    "\n",
    "#select x axis ticks based on above values\n",
    "plt.xticks(sail['time'][default_x_ticks], sail['time'].dt.date[default_x_ticks].values)\n",
    "plt.grid(zorder=0, alpha=0.5)\n",
    "plt.show()"
   ]
  },
  {
   "cell_type": "markdown",
   "id": "fb88591e-3820-47ae-9766-a6cca1124241",
   "metadata": {},
   "source": [
    "### View Temperature throughout the Cruise"
   ]
  },
  {
   "cell_type": "code",
   "execution_count": null,
   "id": "d387fdfc-78ff-4da6-a6e3-ad6cccd392bf",
   "metadata": {},
   "outputs": [],
   "source": [
    "#resample the data by Day\n",
    "resampled_temp = sail.resample(time=\"D\", skipna = True).mean()\n",
    "\n",
    "#set figure size\n",
    "plt.figure(figsize = (14,4))\n",
    "\n",
    "#create lineplot \n",
    "sns.lineplot(x = sail['time'].dt.date, y = sail['TEMP_CTD_MEAN'], color = 'grey', ci = 'sd', alpha=0.2)\n",
    "plt.scatter(resampled_temp['time'].dt.date, resampled_temp['TEMP_CTD_MEAN'], 30, [*range(len(resampled_temp['TEMP_CTD_MEAN']))], 'o', cmap='jet')\n",
    "plt.tight_layout()\n",
    "\n",
    "#set labels\n",
    "plt.title('Water Temperature for Saildrone Cruise', fontdict = {'fontsize' : 16})\n",
    "plt.xlabel(\"Date\")\n",
    "plt.ylabel(\"Temperature [C]\")\n",
    "\n",
    "#reformat x-axis ticks\n",
    "plt.xticks(sail['time'][default_x_ticks], sail['time'].dt.date[default_x_ticks].values)\n",
    "plt.grid(zorder=0, alpha=0.5)\n",
    "plt.show()"
   ]
  },
  {
   "cell_type": "markdown",
   "id": "f142720c-5b27-48c1-bd38-269aa4b9493b",
   "metadata": {},
   "source": [
    "### View Salinity throughout the Cruise"
   ]
  },
  {
   "cell_type": "code",
   "execution_count": null,
   "id": "cfa08ec8-a9a2-4e87-b76d-363409806e07",
   "metadata": {},
   "outputs": [],
   "source": [
    "#resample the data by Day\n",
    "resampled_sal = sail.resample(time=\"D\", skipna = True).mean()\n",
    "\n",
    "#set figure\n",
    "plt.figure(figsize = (14,4))\n",
    "\n",
    "#create lineplot \n",
    "sns.lineplot(x = sail['time'].dt.date, y = sail['SAL_CTD_MEAN'], color = 'grey', ci = 'sd', alpha=0.2)\n",
    "plt.scatter(resampled_sal['time'].dt.date, resampled_sal['SAL_CTD_MEAN'], 30, [*range(len(resampled_sal['SAL_CTD_MEAN']))], 'o', cmap='jet')\n",
    "plt.tight_layout()\n",
    "\n",
    "#label graph\n",
    "plt.title('Salinity for Saildrone Cruise', fontdict = {'fontsize' : 16})\n",
    "plt.xlabel(\"Date\")\n",
    "plt.ylabel(\"Salinity [PPT]\")\n",
    "\n",
    "#reformat ticks\n",
    "plt.xticks(sail['time'][default_x_ticks], sail['time'].dt.date[default_x_ticks].values)\n",
    "plt.grid(zorder=0, alpha=0.5)\n",
    "plt.show()"
   ]
  },
  {
   "cell_type": "markdown",
   "id": "9d0ca63e-61fa-432a-bc90-2a2d8fd974f2",
   "metadata": {},
   "source": [
    "### Look at Sampling Tracks"
   ]
  },
  {
   "cell_type": "code",
   "execution_count": null,
   "id": "0f9d6130-ac7d-4dda-84f7-1316d2f93842",
   "metadata": {},
   "outputs": [],
   "source": [
    "#define latitude and longitude boundaries\n",
    "latr = [min(sail['lat']), max(sail['lat'])] \n",
    "lonr = [max(sail['lon']), min(sail['lon'])] \n",
    "\n",
    "# Select a region of our data, giving it a margin\n",
    "margin = 0.5 \n",
    "region = np.array([[latr[0]-margin,latr[1]+margin],[lonr[0]+margin,lonr[1]-margin]]) \n",
    "\n",
    "#add state outlines\n",
    "states_provinces = cfeature.NaturalEarthFeature(\n",
    "        category='cultural',\n",
    "        name='admin_1_states_provinces_lines',\n",
    "        scale='50m',\n",
    "        facecolor='none')\n",
    "\n",
    "# Create and set the figure context\n",
    "fig = plt.figure(figsize=(16,10), dpi = 72) \n",
    "ax = plt.axes(projection=ccrs.PlateCarree()) \n",
    "ax.coastlines(resolution='10m',linewidth=1,color='black') \n",
    "ax.add_feature(cfeature.LAND, color='grey', alpha=0.3)\n",
    "ax.add_feature(states_provinces, linewidth = 0.5)\n",
    "ax.add_feature(cfeature.BORDERS)\n",
    "ax.set_extent([region[1,0],region[1,1],region[0,0],region[0,1]],crs=ccrs.PlateCarree()) \n",
    "ax.set_xticks(np.round([*np.arange(region[1,1],region[1,0]+1,2)][::-1],0), crs=ccrs.PlateCarree()) \n",
    "ax.set_yticks(np.round([*np.arange(np.floor(region[0,0]),region[0,1]+1,1.5)],1), crs=ccrs.PlateCarree()) \n",
    "ax.xaxis.set_major_formatter(LongitudeFormatter(zero_direction_label=True))\n",
    "ax.yaxis.set_major_formatter(LatitudeFormatter())\n",
    "ax.gridlines(linestyle = '--', linewidth = 0.5)\n",
    "\n",
    "# Plot track data, color by temperature\n",
    "loc = mdates.AutoDateLocator()\n",
    "sc = plt.scatter(x = sail['lon'], y = sail['lat'], c = sail['date'], cmap='jet')\n",
    "#plt.plot(sail['lon'], sail['lat'], ls = ':', c = 'navy', alpha = 0.4)\n",
    "clb = fig.colorbar(sc, ticks=loc, format=mdates.AutoDateFormatter(loc))\n",
    "clb.ax.set_title('Date')\n",
    "clb.set_ticks(sail['date'][default_x_ticks])\n",
    "clb.set_ticklabels(sail['time'].dt.date[default_x_ticks].values)\n",
    "plt.title('Sampling Track for Cruise', fontdict = {'fontsize' : 16})\n",
    "plt.show()"
   ]
  },
  {
   "cell_type": "markdown",
   "id": "22ee2a9f-2937-436f-ae80-12be5ed3957e",
   "metadata": {},
   "source": [
    "### Salinity versus Temperature Diagram"
   ]
  },
  {
   "cell_type": "code",
   "execution_count": null,
   "id": "04fe1aa4",
   "metadata": {},
   "outputs": [],
   "source": [
    "#filter data\n",
    "sail_filtered = sail.drop('date')\n",
    "sail_filtered = sail_filtered.to_dataframe()\n",
    "sail_filtered['date'] = mdates.date2num(sail['time'].dt.date)\n",
    "#sail_filtered.reset_index(inplace=True)\n",
    "#sail_filtered['date'] = sail_filtered['time'].dt.date\n",
    "sail_filtered = sail_filtered.loc[(sail_filtered['SAL_CTD_MEAN'] >= 32) & (sail_filtered['TEMP_CTD_MEAN'] >= 6), \n",
    "                                  ['date','SAL_CTD_MEAN','TEMP_CTD_MEAN','lat','lon']]\n",
    "\n",
    "#specify salinity values\n",
    "xaxis_val = [32, 32.5, 33, 33.5, 34]\n",
    "\n",
    "#visualize temp and salinity data\n",
    "fig = plt.figure() \n",
    "ax = plt.axes() \n",
    "plt.scatter(sail_filtered['SAL_CTD_MEAN'], sail_filtered['TEMP_CTD_MEAN'], alpha = 0.3)\n",
    "plt.title('Salinity versus Temperature', fontdict = {'fontsize' : 16})\n",
    "plt.xlabel(\"Salinity [PPT]\") \n",
    "plt.ylabel(\"Temperature [C]\")\n",
    "plt.xticks(xaxis_val)\n",
    "plt.show()\n",
    "\n",
    "#visualize temp and salinity data with date\n",
    "fig = plt.figure(figsize=(7.6,4)) \n",
    "loc = mdates.AutoDateLocator()\n",
    "sc = plt.scatter(x = sail_filtered['SAL_CTD_MEAN'], y = sail_filtered['TEMP_CTD_MEAN'], c = sail_filtered['date'], cmap='jet', alpha = 0.5)\n",
    "clb = fig.colorbar(sc, ticks=loc, format=mdates.AutoDateFormatter(loc))\n",
    "#ax.set_label('Date')\n",
    "plt.title('Salinity versus Temperature with Date', fontdict = {'fontsize' : 16})\n",
    "plt.xlabel(\"Salinity [PPT]\")\n",
    "plt.ylabel(\"Temperature [C]\")\n",
    "plt.xticks(xaxis_val)\n",
    "plt.grid()\n",
    "plt.show()\n",
    "\n"
   ]
  },
  {
   "cell_type": "markdown",
   "id": "019758f9-7e69-4aaf-8d31-2c853fca3a9c",
   "metadata": {},
   "source": [
    "### Temperature Values throughout the Cruise"
   ]
  },
  {
   "cell_type": "code",
   "execution_count": null,
   "id": "4b7f4cc5-3ae1-42dc-a7ff-a61c9ccede9e",
   "metadata": {},
   "outputs": [],
   "source": [
    "#define latitude and longitude boundaries\n",
    "latr = [min(sail['lat']), max(sail['lat'])] \n",
    "lonr = [max(sail['lon']), min(sail['lon'])] \n",
    "\n",
    "# Select a region of our data, giving it a margin\n",
    "margin = 0.5 \n",
    "region = np.array([[latr[0]-margin,latr[1]+margin],[lonr[0]+margin,lonr[1]-margin]]) \n",
    "\n",
    "#add state outlines\n",
    "states_provinces = cfeature.NaturalEarthFeature(\n",
    "        category='cultural',\n",
    "        name='admin_1_states_provinces_lines',\n",
    "        scale='50m',\n",
    "        facecolor='none')\n",
    "\n",
    "# Create and set the figure context\n",
    "fig = plt.figure(figsize=(16,10), dpi = 72) \n",
    "ax = plt.axes(projection=ccrs.PlateCarree()) \n",
    "ax.coastlines(resolution='10m',linewidth=1,color='black') \n",
    "ax.add_feature(cfeature.LAND, color='grey', alpha=0.3)\n",
    "ax.add_feature(states_provinces, linewidth = 0.5)\n",
    "ax.add_feature(cfeature.BORDERS)\n",
    "ax.set_extent([region[1,0],region[1,1],region[0,0],region[0,1]],crs=ccrs.PlateCarree()) \n",
    "ax.set_xticks(np.round([*np.arange(region[1,1],region[1,0]+1,2)][::-1],0), crs=ccrs.PlateCarree()) \n",
    "ax.set_yticks(np.round([*np.arange(np.floor(region[0,0]),region[0,1]+1,1.5)],1), crs=ccrs.PlateCarree()) \n",
    "ax.xaxis.set_major_formatter(LongitudeFormatter(zero_direction_label=True))\n",
    "ax.yaxis.set_major_formatter(LatitudeFormatter())\n",
    "ax.gridlines(linestyle = '--', linewidth = 0.5)\n",
    "\n",
    "# Plot track data, color by temperature\n",
    "sc = plt.scatter(data = sail_filtered, x = 'lon', y = 'lat', c = 'TEMP_CTD_MEAN')\n",
    "clb = fig.colorbar(sc, label = \"Temperature [C]\")\n",
    "plt.set_cmap('Reds')\n",
    "plt.title('Raw Temperature Values', fontdict = {'fontsize' : 16})\n",
    "plt.show()"
   ]
  },
  {
   "cell_type": "markdown",
   "id": "8103be4c-3390-4bc8-96ba-cd1a6fd5794d",
   "metadata": {},
   "source": [
    "### Salinity Values throughout the Cruise"
   ]
  },
  {
   "cell_type": "code",
   "execution_count": null,
   "id": "4c2d5ecc-4085-4d99-b558-a0fba8dcf673",
   "metadata": {},
   "outputs": [],
   "source": [
    "#define latitude and longitude boundaries\n",
    "latr = [min(sail['lat']), max(sail['lat'])] \n",
    "lonr = [max(sail['lon']), min(sail['lon'])] \n",
    "\n",
    "# Select a region of our data, giving it a margin\n",
    "margin = 0.5 \n",
    "region = np.array([[latr[0]-margin,latr[1]+margin],[lonr[0]+margin,lonr[1]-margin]]) \n",
    "\n",
    "#add state outlines\n",
    "states_provinces = cfeature.NaturalEarthFeature(\n",
    "        category='cultural',\n",
    "        name='admin_1_states_provinces_lines',\n",
    "        scale='50m',\n",
    "        facecolor='none')\n",
    "\n",
    "# Create and set the figure context\n",
    "fig = plt.figure(figsize=(16,10), dpi = 72) \n",
    "ax = plt.axes(projection=ccrs.PlateCarree()) \n",
    "ax.coastlines(resolution='10m',linewidth=1,color='black') \n",
    "ax.add_feature(cfeature.LAND, color='grey', alpha=0.3)\n",
    "ax.add_feature(states_provinces, linewidth = 0.5)\n",
    "ax.add_feature(cfeature.BORDERS)\n",
    "ax.set_extent([region[1,0],region[1,1],region[0,0],region[0,1]],crs=ccrs.PlateCarree()) \n",
    "ax.set_xticks(np.round([*np.arange(region[1,1],region[1,0]+1,2)][::-1],0), crs=ccrs.PlateCarree()) \n",
    "ax.set_yticks(np.round([*np.arange(region[0,0],region[0,1]+1,1)],0), crs=ccrs.PlateCarree()) \n",
    "ax.xaxis.set_major_formatter(LongitudeFormatter(zero_direction_label=True))\n",
    "ax.yaxis.set_major_formatter(LatitudeFormatter())\n",
    "ax.gridlines(linestyle = '--', linewidth = 0.5)\n",
    "\n",
    "\n",
    "# Plot track data, color by temperature\n",
    "sc = plt.scatter(x = sail_filtered['lon'], y = sail_filtered['lat'], c = sail_filtered['SAL_CTD_MEAN'])\n",
    "clb = fig.colorbar(sc, label = \"Salinity [PPT]\")\n",
    "plt.set_cmap('Blues')\n",
    "plt.title('Raw Salinity Values', fontdict = {'fontsize' : 16})\n",
    "plt.show()"
   ]
  },
  {
   "cell_type": "markdown",
   "id": "ce96cc6e-2cd8-43b3-814c-a87bfe0f75e9",
   "metadata": {},
   "source": [
    "## *Optional*\n",
    "\n",
    "Run the whole script on the other saildrone data file in the data folder and see how the graphs change.\n",
    "\n",
    "File name: saildrone_west_coast_survey_2018_sd1027jplv05.0_orbital.nc"
   ]
  },
  {
   "cell_type": "code",
   "execution_count": null,
   "id": "74dde6ee-b452-423b-8fde-cc2c3f85ecbe",
   "metadata": {},
   "outputs": [],
   "source": []
  }
 ],
 "metadata": {
  "kernelspec": {
   "display_name": "Python 3 (ipykernel)",
   "language": "python",
   "name": "python3"
  },
  "language_info": {
   "codemirror_mode": {
    "name": "ipython",
    "version": 3
   },
   "file_extension": ".py",
   "mimetype": "text/x-python",
   "name": "python",
   "nbconvert_exporter": "python",
   "pygments_lexer": "ipython3",
   "version": "3.10.4"
  }
 },
 "nbformat": 4,
 "nbformat_minor": 5
}
